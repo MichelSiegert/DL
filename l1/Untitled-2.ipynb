{
 "cells": [
  {
   "cell_type": "markdown",
   "metadata": {},
   "source": [
    "## I know Markup lol.\n",
    "### Here is some stuff I can do!\n",
    "[link](https://theuselessweb.com/)\n",
    "\n",
    "Flex on people \n",
    "1. Im the best\n",
    "1. 2nd option\n",
    "1. Also agree with the first point\n",
    "    1. Really uncreative, lol\n",
    "\n",
    "* alos\n",
    "* awda\n",
    "* 1.Na3"
   ]
  },
  {
   "cell_type": "code",
   "execution_count": 2,
   "metadata": {},
   "outputs": [
    {
     "name": "stdout",
     "output_type": "stream",
     "text": [
      "hello world!\n"
     ]
    }
   ],
   "source": []
  },
  {
   "cell_type": "code",
   "execution_count": null,
   "metadata": {},
   "outputs": [],
   "source": []
  }
 ],
 "metadata": {
  "kernelspec": {
   "display_name": "l1",
   "language": "python",
   "name": "python3"
  },
  "language_info": {
   "codemirror_mode": {
    "name": "ipython",
    "version": 3
   },
   "file_extension": ".py",
   "mimetype": "text/x-python",
   "name": "python",
   "nbconvert_exporter": "python",
   "pygments_lexer": "ipython3",
   "version": "3.12.2"
  }
 },
 "nbformat": 4,
 "nbformat_minor": 2
}
